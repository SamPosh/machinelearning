{
 "cells": [
  {
   "cell_type": "code",
   "execution_count": 1,
   "id": "7b232230-a5b0-4d77-a381-93f5cfc4eb86",
   "metadata": {},
   "outputs": [],
   "source": [
    "import pandas as pd"
   ]
  },
  {
   "cell_type": "code",
   "execution_count": 2,
   "id": "4334ae80-f1c1-473b-b2eb-5dd73734699f",
   "metadata": {},
   "outputs": [],
   "source": [
    "sentiment_data= pd.read_csv(\"tweet_dataset.csv\", encoding=\"unicode_escape\")"
   ]
  },
  {
   "cell_type": "code",
   "execution_count": 3,
   "id": "ec8945d3-8c7c-4669-954b-a72e23626a2e",
   "metadata": {},
   "outputs": [
    {
     "data": {
      "text/html": [
       "<div>\n",
       "<style scoped>\n",
       "    .dataframe tbody tr th:only-of-type {\n",
       "        vertical-align: middle;\n",
       "    }\n",
       "\n",
       "    .dataframe tbody tr th {\n",
       "        vertical-align: top;\n",
       "    }\n",
       "\n",
       "    .dataframe thead th {\n",
       "        text-align: right;\n",
       "    }\n",
       "</style>\n",
       "<table border=\"1\" class=\"dataframe\">\n",
       "  <thead>\n",
       "    <tr style=\"text-align: right;\">\n",
       "      <th></th>\n",
       "      <th>textID</th>\n",
       "      <th>text</th>\n",
       "      <th>selected_text</th>\n",
       "      <th>sentiment</th>\n",
       "      <th>Time of Tweet</th>\n",
       "      <th>Age of User</th>\n",
       "      <th>Country</th>\n",
       "      <th>Population -2020</th>\n",
       "      <th>Land Area (Km²)</th>\n",
       "      <th>Density (P/Km²)</th>\n",
       "    </tr>\n",
       "  </thead>\n",
       "  <tbody>\n",
       "    <tr>\n",
       "      <th>0</th>\n",
       "      <td>cb774db0d1</td>\n",
       "      <td>I`d have responded, if I were going</td>\n",
       "      <td>I`d have responded, if I were going</td>\n",
       "      <td>neutral</td>\n",
       "      <td>morning</td>\n",
       "      <td>0-20</td>\n",
       "      <td>Afghanistan</td>\n",
       "      <td>38928346</td>\n",
       "      <td>652860.0</td>\n",
       "      <td>60</td>\n",
       "    </tr>\n",
       "    <tr>\n",
       "      <th>1</th>\n",
       "      <td>549e992a42</td>\n",
       "      <td>Sooo SAD I will miss you here in San Diego!!!</td>\n",
       "      <td>Sooo SAD</td>\n",
       "      <td>negative</td>\n",
       "      <td>noon</td>\n",
       "      <td>21-30</td>\n",
       "      <td>Albania</td>\n",
       "      <td>2877797</td>\n",
       "      <td>27400.0</td>\n",
       "      <td>105</td>\n",
       "    </tr>\n",
       "    <tr>\n",
       "      <th>2</th>\n",
       "      <td>088c60f138</td>\n",
       "      <td>my boss is bullying me...</td>\n",
       "      <td>bullying me</td>\n",
       "      <td>negative</td>\n",
       "      <td>night</td>\n",
       "      <td>31-45</td>\n",
       "      <td>Algeria</td>\n",
       "      <td>43851044</td>\n",
       "      <td>2381740.0</td>\n",
       "      <td>18</td>\n",
       "    </tr>\n",
       "    <tr>\n",
       "      <th>3</th>\n",
       "      <td>9642c003ef</td>\n",
       "      <td>what interview! leave me alone</td>\n",
       "      <td>leave me alone</td>\n",
       "      <td>negative</td>\n",
       "      <td>morning</td>\n",
       "      <td>46-60</td>\n",
       "      <td>Andorra</td>\n",
       "      <td>77265</td>\n",
       "      <td>470.0</td>\n",
       "      <td>164</td>\n",
       "    </tr>\n",
       "    <tr>\n",
       "      <th>4</th>\n",
       "      <td>358bd9e861</td>\n",
       "      <td>Sons of ****, why couldn`t they put them on t...</td>\n",
       "      <td>Sons of ****,</td>\n",
       "      <td>negative</td>\n",
       "      <td>noon</td>\n",
       "      <td>60-70</td>\n",
       "      <td>Angola</td>\n",
       "      <td>32866272</td>\n",
       "      <td>1246700.0</td>\n",
       "      <td>26</td>\n",
       "    </tr>\n",
       "  </tbody>\n",
       "</table>\n",
       "</div>"
      ],
      "text/plain": [
       "       textID                                               text  \\\n",
       "0  cb774db0d1                I`d have responded, if I were going   \n",
       "1  549e992a42      Sooo SAD I will miss you here in San Diego!!!   \n",
       "2  088c60f138                          my boss is bullying me...   \n",
       "3  9642c003ef                     what interview! leave me alone   \n",
       "4  358bd9e861   Sons of ****, why couldn`t they put them on t...   \n",
       "\n",
       "                         selected_text sentiment Time of Tweet Age of User  \\\n",
       "0  I`d have responded, if I were going   neutral       morning        0-20   \n",
       "1                             Sooo SAD  negative          noon       21-30   \n",
       "2                          bullying me  negative         night       31-45   \n",
       "3                       leave me alone  negative       morning       46-60   \n",
       "4                        Sons of ****,  negative          noon       60-70   \n",
       "\n",
       "       Country  Population -2020  Land Area (Km²)  Density (P/Km²)  \n",
       "0  Afghanistan          38928346         652860.0               60  \n",
       "1      Albania           2877797          27400.0              105  \n",
       "2      Algeria          43851044        2381740.0               18  \n",
       "3      Andorra             77265            470.0              164  \n",
       "4       Angola          32866272        1246700.0               26  "
      ]
     },
     "execution_count": 3,
     "metadata": {},
     "output_type": "execute_result"
    }
   ],
   "source": [
    "sentiment_data.head()"
   ]
  },
  {
   "cell_type": "code",
   "execution_count": 4,
   "id": "8cdac406-ec55-4e02-ad72-f44fe74a04f9",
   "metadata": {},
   "outputs": [
    {
     "name": "stdout",
     "output_type": "stream",
     "text": [
      "(27481,)\n",
      "(27481,)\n"
     ]
    }
   ],
   "source": [
    "input_data = sentiment_data[\"selected_text\"]\n",
    "out_data = sentiment_data[\"sentiment\"]\n",
    "print(input_data.shape)\n",
    "print(out_data.shape)"
   ]
  },
  {
   "cell_type": "code",
   "execution_count": 8,
   "id": "85f40db0-4893-48a0-a5e7-386a941ebeb7",
   "metadata": {},
   "outputs": [
    {
     "data": {
      "text/plain": [
       "0                      I`d have responded, if I were going\n",
       "1                                                 Sooo SAD\n",
       "2                                              bullying me\n",
       "3                                           leave me alone\n",
       "4                                            Sons of ****,\n",
       "                               ...                        \n",
       "27476                                               d lost\n",
       "27477                                        , don`t force\n",
       "27478                            Yay good for both of you.\n",
       "27479                           But it was worth it  ****.\n",
       "27480    All this flirting going on - The ATG smiles. Y...\n",
       "Name: selected_text, Length: 27481, dtype: object"
      ]
     },
     "execution_count": 8,
     "metadata": {},
     "output_type": "execute_result"
    }
   ],
   "source": [
    "input_data"
   ]
  },
  {
   "cell_type": "code",
   "execution_count": 9,
   "id": "2dac9e11-ae97-44fa-a1d2-6b05f32d191c",
   "metadata": {},
   "outputs": [
    {
     "data": {
      "text/plain": [
       "0         neutral\n",
       "1        negative\n",
       "2        negative\n",
       "3        negative\n",
       "4        negative\n",
       "           ...   \n",
       "27476    negative\n",
       "27477    negative\n",
       "27478    positive\n",
       "27479    positive\n",
       "27480     neutral\n",
       "Name: sentiment, Length: 27481, dtype: object"
      ]
     },
     "execution_count": 9,
     "metadata": {},
     "output_type": "execute_result"
    }
   ],
   "source": [
    "out_data"
   ]
  },
  {
   "cell_type": "code",
   "execution_count": 6,
   "id": "c8cb94d8-c832-4460-aa41-3249d321f182",
   "metadata": {},
   "outputs": [],
   "source": [
    "from sklearn.model_selection import train_test_split\n",
    "in_data_train,in_data_test,out_data_train,out_data_test = train_test_split(input_data,out_data,test_size = 0.3)\n"
   ]
  },
  {
   "cell_type": "code",
   "execution_count": 7,
   "id": "6fb3c600-19bf-4a4a-8702-30c946bd6464",
   "metadata": {},
   "outputs": [
    {
     "name": "stdout",
     "output_type": "stream",
     "text": [
      "(19236,)\n",
      "(8245,)\n"
     ]
    }
   ],
   "source": [
    "print(in_data_train.shape)\n",
    "print(in_data_test.shape)"
   ]
  },
  {
   "cell_type": "code",
   "execution_count": 8,
   "id": "c664983a-10df-4c8b-8e05-7e385b3e5874",
   "metadata": {},
   "outputs": [
    {
     "data": {
      "text/plain": [
       "array(['neutral', 'neutral', 'positive', ..., 'neutral', 'neutral',\n",
       "       'neutral'], dtype='<U8')"
      ]
     },
     "execution_count": 8,
     "metadata": {},
     "output_type": "execute_result"
    }
   ],
   "source": [
    "from sklearn.feature_extraction.text import TfidfVectorizer\n",
    "from sklearn.naive_bayes import MultinomialNB\n",
    "from sklearn.pipeline import make_pipeline\n",
    "\n",
    "model = make_pipeline(TfidfVectorizer(),MultinomialNB())\n",
    "model.fit(in_data_train,out_data_train)\n",
    "\n",
    "predicted_sentiment = model.predict(in_data_test)\n",
    "predicted_sentiment"
   ]
  },
  {
   "cell_type": "code",
   "execution_count": 9,
   "id": "683d4ced-3283-42a0-a431-9c6775011375",
   "metadata": {},
   "outputs": [
    {
     "data": {
      "text/html": [
       "<div>\n",
       "<style scoped>\n",
       "    .dataframe tbody tr th:only-of-type {\n",
       "        vertical-align: middle;\n",
       "    }\n",
       "\n",
       "    .dataframe tbody tr th {\n",
       "        vertical-align: top;\n",
       "    }\n",
       "\n",
       "    .dataframe thead th {\n",
       "        text-align: right;\n",
       "    }\n",
       "</style>\n",
       "<table border=\"1\" class=\"dataframe\">\n",
       "  <thead>\n",
       "    <tr style=\"text-align: right;\">\n",
       "      <th></th>\n",
       "      <th>Predicted Negative</th>\n",
       "      <th>Predicted Neutral</th>\n",
       "      <th>Predicted Positive</th>\n",
       "    </tr>\n",
       "  </thead>\n",
       "  <tbody>\n",
       "    <tr>\n",
       "      <th>Actual Negative</th>\n",
       "      <td>1352</td>\n",
       "      <td>936</td>\n",
       "      <td>89</td>\n",
       "    </tr>\n",
       "    <tr>\n",
       "      <th>Actual Neutral</th>\n",
       "      <td>71</td>\n",
       "      <td>3197</td>\n",
       "      <td>85</td>\n",
       "    </tr>\n",
       "    <tr>\n",
       "      <th>Actual Positive</th>\n",
       "      <td>34</td>\n",
       "      <td>610</td>\n",
       "      <td>1871</td>\n",
       "    </tr>\n",
       "  </tbody>\n",
       "</table>\n",
       "</div>"
      ],
      "text/plain": [
       "                 Predicted Negative  Predicted Neutral  Predicted Positive\n",
       "Actual Negative                1352                936                  89\n",
       "Actual Neutral                   71               3197                  85\n",
       "Actual Positive                  34                610                1871"
      ]
     },
     "execution_count": 9,
     "metadata": {},
     "output_type": "execute_result"
    }
   ],
   "source": [
    "from sklearn.metrics import confusion_matrix\n",
    "cf_matrix = confusion_matrix(out_data_test,predicted_sentiment)\n",
    "\n",
    "pd.DataFrame(cf_matrix,columns=[\"Predicted Negative\",\"Predicted Neutral\", \"Predicted Positive\"], index=[\"Actual Negative\",\"Actual Neutral\",\"Actual Positive\"])\n"
   ]
  },
  {
   "cell_type": "code",
   "execution_count": 10,
   "id": "d5b8f1ac-e6b5-4e19-a3b5-52c91f072909",
   "metadata": {},
   "outputs": [
    {
     "data": {
      "text/plain": [
       "0.7786537295330503"
      ]
     },
     "execution_count": 10,
     "metadata": {},
     "output_type": "execute_result"
    }
   ],
   "source": [
    "from sklearn.metrics import accuracy_score\n",
    "accuracy_info = accuracy_score(out_data_test, predicted_sentiment)\n",
    "accuracy_info"
   ]
  },
  {
   "cell_type": "code",
   "execution_count": 11,
   "id": "21de2ccf-0b0c-4ae3-be23-051e1528b8f9",
   "metadata": {},
   "outputs": [
    {
     "data": {
      "text/plain": [
       "array(['positive'], dtype='<U8')"
      ]
     },
     "execution_count": 11,
     "metadata": {},
     "output_type": "execute_result"
    }
   ],
   "source": [
    "def predict_sentiment(txt,model=model):\n",
    "    pred = model.predict([txt])\n",
    "    return pred\n",
    "\n",
    "predict_sentiment(\"I Love my wife\")"
   ]
  },
  {
   "cell_type": "code",
   "execution_count": 12,
   "id": "52bc23c1-1ae6-40a2-8ce2-368632f59d31",
   "metadata": {},
   "outputs": [
    {
     "data": {
      "text/plain": [
       "array(['negative'], dtype='<U8')"
      ]
     },
     "execution_count": 12,
     "metadata": {},
     "output_type": "execute_result"
    }
   ],
   "source": [
    "predict_sentiment(\"I have pets\")"
   ]
  },
  {
   "cell_type": "code",
   "execution_count": 13,
   "id": "c1a6e3af-9f5f-488a-9e96-0809796651a5",
   "metadata": {},
   "outputs": [
    {
     "data": {
      "text/plain": [
       "array(['positive'], dtype='<U8')"
      ]
     },
     "execution_count": 13,
     "metadata": {},
     "output_type": "execute_result"
    }
   ],
   "source": [
    "predict_sentiment(\"It's  a good day\")"
   ]
  },
  {
   "cell_type": "code",
   "execution_count": 14,
   "id": "1e654c5f-3795-46f8-9a83-318fe1037bc9",
   "metadata": {},
   "outputs": [
    {
     "data": {
      "text/plain": [
       "array(['neutral'], dtype='<U8')"
      ]
     },
     "execution_count": 14,
     "metadata": {},
     "output_type": "execute_result"
    }
   ],
   "source": [
    "predict_sentiment(\"Train has arrived on time\")"
   ]
  },
  {
   "cell_type": "code",
   "execution_count": 15,
   "id": "e3947f1d-1ef2-428f-b74a-9e218263aac0",
   "metadata": {},
   "outputs": [
    {
     "data": {
      "text/plain": [
       "array(['positive'], dtype='<U8')"
      ]
     },
     "execution_count": 15,
     "metadata": {},
     "output_type": "execute_result"
    }
   ],
   "source": [
    "predict_sentiment(\"Life is beautiful\")"
   ]
  },
  {
   "cell_type": "code",
   "execution_count": null,
   "id": "4b2fa997-17f5-420b-97cd-39b1f9ae0318",
   "metadata": {},
   "outputs": [],
   "source": []
  }
 ],
 "metadata": {
  "kernelspec": {
   "display_name": "Python 3 (ipykernel)",
   "language": "python",
   "name": "python3"
  },
  "language_info": {
   "codemirror_mode": {
    "name": "ipython",
    "version": 3
   },
   "file_extension": ".py",
   "mimetype": "text/x-python",
   "name": "python",
   "nbconvert_exporter": "python",
   "pygments_lexer": "ipython3",
   "version": "3.11.7"
  }
 },
 "nbformat": 4,
 "nbformat_minor": 5
}
