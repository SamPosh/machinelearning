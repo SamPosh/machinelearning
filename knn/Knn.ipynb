{
 "cells": [
  {
   "cell_type": "code",
   "execution_count": 1,
   "id": "d9f9d17d-125b-429c-bbec-bb2c329f1cfa",
   "metadata": {},
   "outputs": [
    {
     "data": {
      "text/plain": [
       "9819"
      ]
     },
     "execution_count": 1,
     "metadata": {},
     "output_type": "execute_result"
    }
   ],
   "source": [
    "import pandas as pd\n",
    "from sklearn.model_selection import train_test_split\n",
    "df = pd.read_csv(\"telescope_data.csv\")\n",
    "cols = df.columns\n",
    "tel_data = df.rename(columns=str.lower)\n",
    "ds_train, ds_test = train_test_split(tel_data, test_size=0.2)\n",
    "input_ds_train = ds_train.drop(columns=[\"class\"])\n",
    "out_ds_train = ds_train[\"class\"]\n",
    "\n",
    "input_ds_test = ds_test.drop(columns=[\"class\"])\n",
    "out_ds_test = ds_test[\"class\"]\n",
    "\n",
    "# len(out_ds_train[out_ds_train[\"class\"] == \"h\"])\n",
    "# len(out_ds_train[out_ds_train[\"class\"] == \"g\"])\n",
    "len(out_ds_train[out_ds_train == 'h'])\n",
    "len(out_ds_train[out_ds_train == 'g'])\n",
    "# out_ds_train.columns\n"
   ]
  },
  {
   "cell_type": "code",
   "execution_count": 3,
   "id": "f68bf7fe-4e7d-41c3-be96-c029cecb562b",
   "metadata": {},
   "outputs": [
    {
     "name": "stdout",
     "output_type": "stream",
     "text": [
      "19638\n",
      "9819\n",
      "9819\n"
     ]
    }
   ],
   "source": [
    "from imblearn.over_sampling import RandomOverSampler\n",
    "from sklearn.preprocessing import StandardScaler\n",
    "scalar = StandardScaler()\n",
    "# Standard scalar will ensure that each row has same level of data. previously some columns are 87, 90 and others are in decimal points.\n",
    "# Now all the columns will be transformed to decimal\n",
    "# input_ds_train = scalar.fit_transform(input_ds_train)\n",
    "\n",
    "# with 'h' class ,number of records are low ,so prediction for hadron would be hard as it has less data. \n",
    "# To avoid that we do resample\n",
    "r_sam = RandomOverSampler()\n",
    "input_ds_train, out_ds_train = r_sam.fit_resample(input_ds_train,out_ds_train)\n",
    "print(len(out_ds_train))\n",
    "print(len(out_ds_train[out_ds_train == 'g']))\n",
    "print(len(out_ds_train[out_ds_train == 'h']))"
   ]
  },
  {
   "cell_type": "code",
   "execution_count": 5,
   "id": "f569a921-a88a-4299-a277-8718bd403c0b",
   "metadata": {},
   "outputs": [
    {
     "data": {
      "text/plain": [
       "0.9997371188222923"
      ]
     },
     "execution_count": 5,
     "metadata": {},
     "output_type": "execute_result"
    }
   ],
   "source": [
    "from sklearn.neighbors import KNeighborsClassifier\n",
    "from sklearn.metrics import accuracy_score\n",
    "knn_model = KNeighborsClassifier(n_neighbors=1)\n",
    "\n",
    "knn_model.fit(input_ds_train,out_ds_train)\n",
    "predicted_result = knn_model.predict(input_ds_test)\n",
    "\n",
    "accuracy_info = accuracy_score(out_ds_test,predicted_result)\n",
    "accuracy_info\n"
   ]
  },
  {
   "cell_type": "code",
   "execution_count": 6,
   "id": "e0dc26f6-0e3e-4416-beae-7bae123bb3c6",
   "metadata": {},
   "outputs": [
    {
     "data": {
      "text/html": [
       "<div>\n",
       "<style scoped>\n",
       "    .dataframe tbody tr th:only-of-type {\n",
       "        vertical-align: middle;\n",
       "    }\n",
       "\n",
       "    .dataframe tbody tr th {\n",
       "        vertical-align: top;\n",
       "    }\n",
       "\n",
       "    .dataframe thead th {\n",
       "        text-align: right;\n",
       "    }\n",
       "</style>\n",
       "<table border=\"1\" class=\"dataframe\">\n",
       "  <thead>\n",
       "    <tr style=\"text-align: right;\">\n",
       "      <th></th>\n",
       "      <th>unnamed: 0</th>\n",
       "      <th>flength</th>\n",
       "      <th>fwidth</th>\n",
       "      <th>fsize</th>\n",
       "      <th>fconc</th>\n",
       "      <th>fconc1</th>\n",
       "      <th>fasym</th>\n",
       "      <th>fm3long</th>\n",
       "      <th>fm3trans</th>\n",
       "      <th>falpha</th>\n",
       "      <th>fdist</th>\n",
       "    </tr>\n",
       "  </thead>\n",
       "  <tbody>\n",
       "    <tr>\n",
       "      <th>14900</th>\n",
       "      <td>14900</td>\n",
       "      <td>162.9040</td>\n",
       "      <td>44.1157</td>\n",
       "      <td>3.3998</td>\n",
       "      <td>0.2199</td>\n",
       "      <td>0.1157</td>\n",
       "      <td>-159.4090</td>\n",
       "      <td>-95.9851</td>\n",
       "      <td>-42.3085</td>\n",
       "      <td>2.6070</td>\n",
       "      <td>298.8910</td>\n",
       "    </tr>\n",
       "    <tr>\n",
       "      <th>2846</th>\n",
       "      <td>2846</td>\n",
       "      <td>30.8869</td>\n",
       "      <td>14.5951</td>\n",
       "      <td>2.7885</td>\n",
       "      <td>0.3938</td>\n",
       "      <td>0.2400</td>\n",
       "      <td>-9.2235</td>\n",
       "      <td>16.3410</td>\n",
       "      <td>6.2712</td>\n",
       "      <td>9.0144</td>\n",
       "      <td>120.9100</td>\n",
       "    </tr>\n",
       "    <tr>\n",
       "      <th>8823</th>\n",
       "      <td>8823</td>\n",
       "      <td>37.3397</td>\n",
       "      <td>20.4370</td>\n",
       "      <td>2.8907</td>\n",
       "      <td>0.2842</td>\n",
       "      <td>0.1846</td>\n",
       "      <td>32.7575</td>\n",
       "      <td>26.3113</td>\n",
       "      <td>9.0852</td>\n",
       "      <td>3.8920</td>\n",
       "      <td>139.3330</td>\n",
       "    </tr>\n",
       "    <tr>\n",
       "      <th>419</th>\n",
       "      <td>419</td>\n",
       "      <td>41.7450</td>\n",
       "      <td>19.7280</td>\n",
       "      <td>3.1065</td>\n",
       "      <td>0.2504</td>\n",
       "      <td>0.1475</td>\n",
       "      <td>36.2267</td>\n",
       "      <td>34.9348</td>\n",
       "      <td>11.3817</td>\n",
       "      <td>1.2137</td>\n",
       "      <td>167.0260</td>\n",
       "    </tr>\n",
       "    <tr>\n",
       "      <th>17833</th>\n",
       "      <td>17833</td>\n",
       "      <td>43.4086</td>\n",
       "      <td>20.6484</td>\n",
       "      <td>2.7128</td>\n",
       "      <td>0.3551</td>\n",
       "      <td>0.2338</td>\n",
       "      <td>-2.9891</td>\n",
       "      <td>37.8256</td>\n",
       "      <td>8.1397</td>\n",
       "      <td>3.7211</td>\n",
       "      <td>241.6005</td>\n",
       "    </tr>\n",
       "    <tr>\n",
       "      <th>...</th>\n",
       "      <td>...</td>\n",
       "      <td>...</td>\n",
       "      <td>...</td>\n",
       "      <td>...</td>\n",
       "      <td>...</td>\n",
       "      <td>...</td>\n",
       "      <td>...</td>\n",
       "      <td>...</td>\n",
       "      <td>...</td>\n",
       "      <td>...</td>\n",
       "      <td>...</td>\n",
       "    </tr>\n",
       "    <tr>\n",
       "      <th>6940</th>\n",
       "      <td>6940</td>\n",
       "      <td>36.4288</td>\n",
       "      <td>32.6215</td>\n",
       "      <td>3.4793</td>\n",
       "      <td>0.2149</td>\n",
       "      <td>0.1090</td>\n",
       "      <td>30.2361</td>\n",
       "      <td>23.0286</td>\n",
       "      <td>22.4956</td>\n",
       "      <td>43.6107</td>\n",
       "      <td>102.8990</td>\n",
       "    </tr>\n",
       "    <tr>\n",
       "      <th>6674</th>\n",
       "      <td>6674</td>\n",
       "      <td>32.6997</td>\n",
       "      <td>22.1011</td>\n",
       "      <td>2.8570</td>\n",
       "      <td>0.3572</td>\n",
       "      <td>0.2314</td>\n",
       "      <td>22.0794</td>\n",
       "      <td>19.5163</td>\n",
       "      <td>-17.7256</td>\n",
       "      <td>20.4490</td>\n",
       "      <td>153.7560</td>\n",
       "    </tr>\n",
       "    <tr>\n",
       "      <th>13096</th>\n",
       "      <td>13096</td>\n",
       "      <td>12.7269</td>\n",
       "      <td>11.6292</td>\n",
       "      <td>2.0881</td>\n",
       "      <td>0.7102</td>\n",
       "      <td>0.3959</td>\n",
       "      <td>15.5857</td>\n",
       "      <td>-9.1686</td>\n",
       "      <td>8.6589</td>\n",
       "      <td>35.7921</td>\n",
       "      <td>193.5800</td>\n",
       "    </tr>\n",
       "    <tr>\n",
       "      <th>12669</th>\n",
       "      <td>12669</td>\n",
       "      <td>37.2093</td>\n",
       "      <td>12.1956</td>\n",
       "      <td>2.6144</td>\n",
       "      <td>0.3937</td>\n",
       "      <td>0.2005</td>\n",
       "      <td>-18.2252</td>\n",
       "      <td>-31.6090</td>\n",
       "      <td>10.4884</td>\n",
       "      <td>46.1597</td>\n",
       "      <td>202.2970</td>\n",
       "    </tr>\n",
       "    <tr>\n",
       "      <th>8519</th>\n",
       "      <td>8519</td>\n",
       "      <td>21.3521</td>\n",
       "      <td>16.4104</td>\n",
       "      <td>2.6263</td>\n",
       "      <td>0.3853</td>\n",
       "      <td>0.2139</td>\n",
       "      <td>-24.5247</td>\n",
       "      <td>-13.1007</td>\n",
       "      <td>6.2545</td>\n",
       "      <td>2.9330</td>\n",
       "      <td>133.7200</td>\n",
       "    </tr>\n",
       "  </tbody>\n",
       "</table>\n",
       "<p>3804 rows × 11 columns</p>\n",
       "</div>"
      ],
      "text/plain": [
       "       unnamed: 0   flength   fwidth   fsize   fconc  fconc1     fasym  \\\n",
       "14900       14900  162.9040  44.1157  3.3998  0.2199  0.1157 -159.4090   \n",
       "2846         2846   30.8869  14.5951  2.7885  0.3938  0.2400   -9.2235   \n",
       "8823         8823   37.3397  20.4370  2.8907  0.2842  0.1846   32.7575   \n",
       "419           419   41.7450  19.7280  3.1065  0.2504  0.1475   36.2267   \n",
       "17833       17833   43.4086  20.6484  2.7128  0.3551  0.2338   -2.9891   \n",
       "...           ...       ...      ...     ...     ...     ...       ...   \n",
       "6940         6940   36.4288  32.6215  3.4793  0.2149  0.1090   30.2361   \n",
       "6674         6674   32.6997  22.1011  2.8570  0.3572  0.2314   22.0794   \n",
       "13096       13096   12.7269  11.6292  2.0881  0.7102  0.3959   15.5857   \n",
       "12669       12669   37.2093  12.1956  2.6144  0.3937  0.2005  -18.2252   \n",
       "8519         8519   21.3521  16.4104  2.6263  0.3853  0.2139  -24.5247   \n",
       "\n",
       "       fm3long  fm3trans   falpha     fdist  \n",
       "14900 -95.9851  -42.3085   2.6070  298.8910  \n",
       "2846   16.3410    6.2712   9.0144  120.9100  \n",
       "8823   26.3113    9.0852   3.8920  139.3330  \n",
       "419    34.9348   11.3817   1.2137  167.0260  \n",
       "17833  37.8256    8.1397   3.7211  241.6005  \n",
       "...        ...       ...      ...       ...  \n",
       "6940   23.0286   22.4956  43.6107  102.8990  \n",
       "6674   19.5163  -17.7256  20.4490  153.7560  \n",
       "13096  -9.1686    8.6589  35.7921  193.5800  \n",
       "12669 -31.6090   10.4884  46.1597  202.2970  \n",
       "8519  -13.1007    6.2545   2.9330  133.7200  \n",
       "\n",
       "[3804 rows x 11 columns]"
      ]
     },
     "execution_count": 6,
     "metadata": {},
     "output_type": "execute_result"
    }
   ],
   "source": [
    "input_ds_test"
   ]
  },
  {
   "cell_type": "code",
   "execution_count": 7,
   "id": "8201f15c-1e63-41ac-9c28-fce2cadad8e9",
   "metadata": {},
   "outputs": [
    {
     "data": {
      "text/plain": [
       "14900    h\n",
       "2846     g\n",
       "8823     g\n",
       "419      g\n",
       "17833    h\n",
       "        ..\n",
       "6940     g\n",
       "6674     g\n",
       "13096    h\n",
       "12669    h\n",
       "8519     g\n",
       "Name: class, Length: 3804, dtype: object"
      ]
     },
     "execution_count": 7,
     "metadata": {},
     "output_type": "execute_result"
    }
   ],
   "source": [
    "out_ds_test"
   ]
  },
  {
   "cell_type": "code",
   "execution_count": 8,
   "id": "ba737023-c528-4ee1-8f85-7615fc1a098e",
   "metadata": {},
   "outputs": [
    {
     "data": {
      "text/plain": [
       "array(['h', 'g', 'g'], dtype=object)"
      ]
     },
     "execution_count": 8,
     "metadata": {},
     "output_type": "execute_result"
    }
   ],
   "source": [
    "knn_model.predict(input_ds_test.head(3))"
   ]
  },
  {
   "cell_type": "code",
   "execution_count": 10,
   "id": "99bed602-881a-4df7-8983-0c8ed38d522e",
   "metadata": {},
   "outputs": [
    {
     "name": "stdout",
     "output_type": "stream",
     "text": [
      "              precision    recall  f1-score   support\n",
      "\n",
      "           g       1.00      1.00      1.00      2513\n",
      "           h       1.00      1.00      1.00      1291\n",
      "\n",
      "    accuracy                           1.00      3804\n",
      "   macro avg       1.00      1.00      1.00      3804\n",
      "weighted avg       1.00      1.00      1.00      3804\n",
      "\n"
     ]
    }
   ],
   "source": [
    "from sklearn.metrics import classification_report\n",
    "\n",
    "print(classification_report(out_ds_test,predicted_result))"
   ]
  },
  {
   "cell_type": "code",
   "execution_count": null,
   "id": "5a163d78-8f18-4275-8a00-1bebc44b1f37",
   "metadata": {},
   "outputs": [],
   "source": []
  }
 ],
 "metadata": {
  "kernelspec": {
   "display_name": "Python 3 (ipykernel)",
   "language": "python",
   "name": "python3"
  },
  "language_info": {
   "codemirror_mode": {
    "name": "ipython",
    "version": 3
   },
   "file_extension": ".py",
   "mimetype": "text/x-python",
   "name": "python",
   "nbconvert_exporter": "python",
   "pygments_lexer": "ipython3",
   "version": "3.11.7"
  }
 },
 "nbformat": 4,
 "nbformat_minor": 5
}
