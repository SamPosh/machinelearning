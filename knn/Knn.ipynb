{
 "cells": [
  {
   "cell_type": "code",
   "execution_count": 56,
   "id": "d9f9d17d-125b-429c-bbec-bb2c329f1cfa",
   "metadata": {},
   "outputs": [
    {
     "data": {
      "text/plain": [
       "9873"
      ]
     },
     "execution_count": 56,
     "metadata": {},
     "output_type": "execute_result"
    }
   ],
   "source": [
    "import pandas as pd\n",
    "from sklearn.model_selection import train_test_split\n",
    "df = pd.read_csv(\"telescope_data.csv\")\n",
    "cols = df.columns\n",
    "tel_data = df.rename(columns=str.lower)\n",
    "ds_train, ds_test = train_test_split(tel_data, test_size=0.2)\n",
    "input_ds_train = ds_train.drop(columns=[\"class\"])\n",
    "out_ds_train = ds_train[\"class\"]\n",
    "\n",
    "input_ds_test = ds_test.drop(columns=[\"class\"])\n",
    "out_ds_test = ds_test[\"class\"]\n",
    "\n",
    "# len(out_ds_train[out_ds_train[\"class\"] == \"h\"])\n",
    "# len(out_ds_train[out_ds_train[\"class\"] == \"g\"])\n",
    "len(out_ds_train[out_ds_train == 'h'])\n",
    "len(out_ds_train[out_ds_train == 'g'])\n",
    "# out_ds_train.columns\n"
   ]
  },
  {
   "cell_type": "code",
   "execution_count": 57,
   "id": "f68bf7fe-4e7d-41c3-be96-c029cecb562b",
   "metadata": {},
   "outputs": [
    {
     "name": "stdout",
     "output_type": "stream",
     "text": [
      "19746\n",
      "9873\n",
      "9873\n"
     ]
    }
   ],
   "source": [
    "from imblearn.over_sampling import RandomOverSampler\n",
    "from sklearn.preprocessing import StandardScaler\n",
    "scalar = StandardScaler()\n",
    "# Standard scalar will ensure that each row has same level of data. previously some columns are 87, 90 and others are in decimal points.\n",
    "# Now all the columns will be transformed to decimal\n",
    "# input_ds_train = scalar.fit_transform(input_ds_train)\n",
    "\n",
    "# with 'h' class ,number of records are low ,so prediction for hadron would be hard as it has less data. \n",
    "# To avoid that we do resample\n",
    "r_sam = RandomOverSampler()\n",
    "input_ds_train, out_ds_train = r_sam.fit_resample(input_ds_train,out_ds_train)\n",
    "print(len(out_ds_train))\n",
    "print(len(out_ds_train[out_ds_train == 'g']))\n",
    "print(len(out_ds_train[out_ds_train == 'h']))"
   ]
  },
  {
   "cell_type": "code",
   "execution_count": 58,
   "id": "f569a921-a88a-4299-a277-8718bd403c0b",
   "metadata": {},
   "outputs": [
    {
     "data": {
      "text/plain": [
       "0.999211356466877"
      ]
     },
     "execution_count": 58,
     "metadata": {},
     "output_type": "execute_result"
    }
   ],
   "source": [
    "from sklearn.neighbors import KNeighborsClassifier\n",
    "from sklearn.metrics import accuracy_score\n",
    "knn_model = KNeighborsClassifier(n_neighbors=1)\n",
    "\n",
    "knn_model.fit(input_ds_train,out_ds_train)\n",
    "# predicted_result = knn_model.predict(input_ds_test)\n",
    "\n",
    "accuracy_info = accuracy_score(out_ds_test,predicted_result)\n",
    "accuracy_info\n"
   ]
  },
  {
   "cell_type": "code",
   "execution_count": 59,
   "id": "e0dc26f6-0e3e-4416-beae-7bae123bb3c6",
   "metadata": {},
   "outputs": [
    {
     "data": {
      "text/html": [
       "<div>\n",
       "<style scoped>\n",
       "    .dataframe tbody tr th:only-of-type {\n",
       "        vertical-align: middle;\n",
       "    }\n",
       "\n",
       "    .dataframe tbody tr th {\n",
       "        vertical-align: top;\n",
       "    }\n",
       "\n",
       "    .dataframe thead th {\n",
       "        text-align: right;\n",
       "    }\n",
       "</style>\n",
       "<table border=\"1\" class=\"dataframe\">\n",
       "  <thead>\n",
       "    <tr style=\"text-align: right;\">\n",
       "      <th></th>\n",
       "      <th>unnamed: 0</th>\n",
       "      <th>flength</th>\n",
       "      <th>fwidth</th>\n",
       "      <th>fsize</th>\n",
       "      <th>fconc</th>\n",
       "      <th>fconc1</th>\n",
       "      <th>fasym</th>\n",
       "      <th>fm3long</th>\n",
       "      <th>fm3trans</th>\n",
       "      <th>falpha</th>\n",
       "      <th>fdist</th>\n",
       "    </tr>\n",
       "  </thead>\n",
       "  <tbody>\n",
       "    <tr>\n",
       "      <th>17338</th>\n",
       "      <td>17338</td>\n",
       "      <td>46.7412</td>\n",
       "      <td>17.5755</td>\n",
       "      <td>2.9085</td>\n",
       "      <td>0.2545</td>\n",
       "      <td>0.1477</td>\n",
       "      <td>-46.5172</td>\n",
       "      <td>-32.4009</td>\n",
       "      <td>14.3317</td>\n",
       "      <td>71.3214</td>\n",
       "      <td>147.1831</td>\n",
       "    </tr>\n",
       "    <tr>\n",
       "      <th>8879</th>\n",
       "      <td>8879</td>\n",
       "      <td>75.0465</td>\n",
       "      <td>22.0343</td>\n",
       "      <td>3.1343</td>\n",
       "      <td>0.2224</td>\n",
       "      <td>0.1229</td>\n",
       "      <td>-64.9762</td>\n",
       "      <td>62.2713</td>\n",
       "      <td>-17.4064</td>\n",
       "      <td>7.7575</td>\n",
       "      <td>276.4700</td>\n",
       "    </tr>\n",
       "    <tr>\n",
       "      <th>833</th>\n",
       "      <td>833</td>\n",
       "      <td>77.6846</td>\n",
       "      <td>25.5809</td>\n",
       "      <td>3.5455</td>\n",
       "      <td>0.1851</td>\n",
       "      <td>0.0992</td>\n",
       "      <td>70.9997</td>\n",
       "      <td>73.0712</td>\n",
       "      <td>18.2497</td>\n",
       "      <td>3.1860</td>\n",
       "      <td>251.2910</td>\n",
       "    </tr>\n",
       "    <tr>\n",
       "      <th>1599</th>\n",
       "      <td>1599</td>\n",
       "      <td>70.8315</td>\n",
       "      <td>22.3982</td>\n",
       "      <td>3.3197</td>\n",
       "      <td>0.2227</td>\n",
       "      <td>0.1252</td>\n",
       "      <td>81.8166</td>\n",
       "      <td>69.0231</td>\n",
       "      <td>19.2635</td>\n",
       "      <td>10.3850</td>\n",
       "      <td>248.9830</td>\n",
       "    </tr>\n",
       "    <tr>\n",
       "      <th>5238</th>\n",
       "      <td>5238</td>\n",
       "      <td>25.9304</td>\n",
       "      <td>18.1375</td>\n",
       "      <td>2.5711</td>\n",
       "      <td>0.5074</td>\n",
       "      <td>0.2671</td>\n",
       "      <td>-19.2751</td>\n",
       "      <td>8.9500</td>\n",
       "      <td>15.6828</td>\n",
       "      <td>16.0581</td>\n",
       "      <td>165.2920</td>\n",
       "    </tr>\n",
       "    <tr>\n",
       "      <th>...</th>\n",
       "      <td>...</td>\n",
       "      <td>...</td>\n",
       "      <td>...</td>\n",
       "      <td>...</td>\n",
       "      <td>...</td>\n",
       "      <td>...</td>\n",
       "      <td>...</td>\n",
       "      <td>...</td>\n",
       "      <td>...</td>\n",
       "      <td>...</td>\n",
       "      <td>...</td>\n",
       "    </tr>\n",
       "    <tr>\n",
       "      <th>10378</th>\n",
       "      <td>10378</td>\n",
       "      <td>26.4641</td>\n",
       "      <td>9.3851</td>\n",
       "      <td>2.3608</td>\n",
       "      <td>0.5272</td>\n",
       "      <td>0.2767</td>\n",
       "      <td>32.2853</td>\n",
       "      <td>18.7226</td>\n",
       "      <td>-5.9279</td>\n",
       "      <td>8.4593</td>\n",
       "      <td>136.3670</td>\n",
       "    </tr>\n",
       "    <tr>\n",
       "      <th>17739</th>\n",
       "      <td>17739</td>\n",
       "      <td>211.8697</td>\n",
       "      <td>57.7383</td>\n",
       "      <td>3.1707</td>\n",
       "      <td>0.2270</td>\n",
       "      <td>0.0905</td>\n",
       "      <td>70.5678</td>\n",
       "      <td>238.3210</td>\n",
       "      <td>-37.9080</td>\n",
       "      <td>65.2246</td>\n",
       "      <td>109.4099</td>\n",
       "    </tr>\n",
       "    <tr>\n",
       "      <th>413</th>\n",
       "      <td>413</td>\n",
       "      <td>62.3261</td>\n",
       "      <td>18.0596</td>\n",
       "      <td>2.7574</td>\n",
       "      <td>0.3217</td>\n",
       "      <td>0.1705</td>\n",
       "      <td>60.5019</td>\n",
       "      <td>49.8049</td>\n",
       "      <td>7.7899</td>\n",
       "      <td>73.9247</td>\n",
       "      <td>122.6130</td>\n",
       "    </tr>\n",
       "    <tr>\n",
       "      <th>8777</th>\n",
       "      <td>8777</td>\n",
       "      <td>113.1640</td>\n",
       "      <td>35.6880</td>\n",
       "      <td>2.9645</td>\n",
       "      <td>0.1812</td>\n",
       "      <td>0.0917</td>\n",
       "      <td>103.1080</td>\n",
       "      <td>55.7080</td>\n",
       "      <td>20.9744</td>\n",
       "      <td>8.8474</td>\n",
       "      <td>234.2290</td>\n",
       "    </tr>\n",
       "    <tr>\n",
       "      <th>13337</th>\n",
       "      <td>13337</td>\n",
       "      <td>115.9424</td>\n",
       "      <td>73.9646</td>\n",
       "      <td>3.1556</td>\n",
       "      <td>0.2530</td>\n",
       "      <td>0.1433</td>\n",
       "      <td>88.7017</td>\n",
       "      <td>118.0635</td>\n",
       "      <td>33.6021</td>\n",
       "      <td>17.4339</td>\n",
       "      <td>162.7646</td>\n",
       "    </tr>\n",
       "  </tbody>\n",
       "</table>\n",
       "<p>3804 rows × 11 columns</p>\n",
       "</div>"
      ],
      "text/plain": [
       "       unnamed: 0   flength   fwidth   fsize   fconc  fconc1     fasym  \\\n",
       "17338       17338   46.7412  17.5755  2.9085  0.2545  0.1477  -46.5172   \n",
       "8879         8879   75.0465  22.0343  3.1343  0.2224  0.1229  -64.9762   \n",
       "833           833   77.6846  25.5809  3.5455  0.1851  0.0992   70.9997   \n",
       "1599         1599   70.8315  22.3982  3.3197  0.2227  0.1252   81.8166   \n",
       "5238         5238   25.9304  18.1375  2.5711  0.5074  0.2671  -19.2751   \n",
       "...           ...       ...      ...     ...     ...     ...       ...   \n",
       "10378       10378   26.4641   9.3851  2.3608  0.5272  0.2767   32.2853   \n",
       "17739       17739  211.8697  57.7383  3.1707  0.2270  0.0905   70.5678   \n",
       "413           413   62.3261  18.0596  2.7574  0.3217  0.1705   60.5019   \n",
       "8777         8777  113.1640  35.6880  2.9645  0.1812  0.0917  103.1080   \n",
       "13337       13337  115.9424  73.9646  3.1556  0.2530  0.1433   88.7017   \n",
       "\n",
       "        fm3long  fm3trans   falpha     fdist  \n",
       "17338  -32.4009   14.3317  71.3214  147.1831  \n",
       "8879    62.2713  -17.4064   7.7575  276.4700  \n",
       "833     73.0712   18.2497   3.1860  251.2910  \n",
       "1599    69.0231   19.2635  10.3850  248.9830  \n",
       "5238     8.9500   15.6828  16.0581  165.2920  \n",
       "...         ...       ...      ...       ...  \n",
       "10378   18.7226   -5.9279   8.4593  136.3670  \n",
       "17739  238.3210  -37.9080  65.2246  109.4099  \n",
       "413     49.8049    7.7899  73.9247  122.6130  \n",
       "8777    55.7080   20.9744   8.8474  234.2290  \n",
       "13337  118.0635   33.6021  17.4339  162.7646  \n",
       "\n",
       "[3804 rows x 11 columns]"
      ]
     },
     "execution_count": 59,
     "metadata": {},
     "output_type": "execute_result"
    }
   ],
   "source": [
    "input_ds_test"
   ]
  },
  {
   "cell_type": "code",
   "execution_count": 60,
   "id": "8201f15c-1e63-41ac-9c28-fce2cadad8e9",
   "metadata": {},
   "outputs": [
    {
     "data": {
      "text/plain": [
       "17338    h\n",
       "8879     g\n",
       "833      g\n",
       "1599     g\n",
       "5238     g\n",
       "        ..\n",
       "10378    g\n",
       "17739    h\n",
       "413      g\n",
       "8777     g\n",
       "13337    h\n",
       "Name: class, Length: 3804, dtype: object"
      ]
     },
     "execution_count": 60,
     "metadata": {},
     "output_type": "execute_result"
    }
   ],
   "source": [
    "out_ds_test"
   ]
  },
  {
   "cell_type": "code",
   "execution_count": 67,
   "id": "ba737023-c528-4ee1-8f85-7615fc1a098e",
   "metadata": {},
   "outputs": [
    {
     "data": {
      "text/plain": [
       "array(['h', 'g', 'g'], dtype=object)"
      ]
     },
     "execution_count": 67,
     "metadata": {},
     "output_type": "execute_result"
    }
   ],
   "source": [
    "knn_model.predict(input_ds_test.head(3))"
   ]
  },
  {
   "cell_type": "code",
   "execution_count": null,
   "id": "99bed602-881a-4df7-8983-0c8ed38d522e",
   "metadata": {},
   "outputs": [],
   "source": []
  }
 ],
 "metadata": {
  "kernelspec": {
   "display_name": "Python 3 (ipykernel)",
   "language": "python",
   "name": "python3"
  },
  "language_info": {
   "codemirror_mode": {
    "name": "ipython",
    "version": 3
   },
   "file_extension": ".py",
   "mimetype": "text/x-python",
   "name": "python",
   "nbconvert_exporter": "python",
   "pygments_lexer": "ipython3",
   "version": "3.11.7"
  }
 },
 "nbformat": 4,
 "nbformat_minor": 5
}
